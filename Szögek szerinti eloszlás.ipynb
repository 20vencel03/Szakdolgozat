{
 "cells": [
  {
   "cell_type": "code",
   "execution_count": 2,
   "id": "4e41393e",
   "metadata": {},
   "outputs": [],
   "source": [
    "import numpy as np\n",
    "import pandas as pd\n",
    "import matplotlib.pyplot as plt"
   ]
  },
  {
   "cell_type": "code",
   "execution_count": 3,
   "id": "ada4842d",
   "metadata": {},
   "outputs": [
    {
     "name": "stdout",
     "output_type": "stream",
     "text": [
      "   PDGEncoding  trackID  parentID          time  eventID       posX      posY  \\\n",
      "0         2212        1         0  4.612551e-09        0  12.875459 -0.045897   \n",
      "1         2212        1         0  5.053970e-09        0  15.330603  0.861206   \n",
      "2         2212        1         0  5.383410e-09        0  17.097225  1.659230   \n",
      "3         2212        1         0  5.426075e-09        0  17.336983  1.726660   \n",
      "4         2212        1         0  5.469879e-09        0  17.604889  1.849732   \n",
      "\n",
      "         posZ   momDirX   momDirY  ...  volumeID[0]  volumeID[1]  volumeID[2]  \\\n",
      "0  225.354004  0.044687  0.009984  ...            0            1            0   \n",
      "1  283.153992  0.044089  0.020782  ...            0            1            0   \n",
      "2  326.093994  0.045484  0.014266  ...            0            1            1   \n",
      "3  331.593994  0.045002  0.022530  ...            0            1            1   \n",
      "4  337.093994  0.051101  0.031774  ...            0            1            1   \n",
      "\n",
      "   volumeID[3]  volumeID[4]  volumeID[5]  volumeID[6]  volumeID[7]  \\\n",
      "0            0            3           -1           -1           -1   \n",
      "1            1            3           -1           -1           -1   \n",
      "2            0            3           -1           -1           -1   \n",
      "3            1            3           -1           -1           -1   \n",
      "4            2            3           -1           -1           -1   \n",
      "\n",
      "   volumeID[8]  volumeID[9]  \n",
      "0           -1           -1  \n",
      "1           -1           -1  \n",
      "2           -1           -1  \n",
      "3           -1           -1  \n",
      "4           -1           -1  \n",
      "\n",
      "[5 rows x 22 columns]\n"
     ]
    }
   ],
   "source": [
    "#200 MeV-ra a Bragg görbe kirajzolása\n",
    "\n",
    "# A fájl elérési útvonalának megadása\n",
    "file_path = '200 eV víz fantom/1712225919_b01e19f0-064e-41f3-9730-b150983d234a_water_10000Primaries_1.hits.npy'\n",
    "\n",
    "# A fájl beolvasása numpy tömbként\n",
    "data200eV = np.load(file_path)\n",
    "\n",
    "# A numpy tömb konvertálása pandas DataFrame-é\n",
    "df200eV = pd.DataFrame(data200eV)\n",
    "\n",
    "# Az adatok megjelenítése\n",
    "print(df200eV.head())"
   ]
  },
  {
   "cell_type": "code",
   "execution_count": 4,
   "id": "ad2acf86",
   "metadata": {},
   "outputs": [
    {
     "name": "stdout",
     "output_type": "stream",
     "text": [
      "Oszlopnevek: Index(['PDGEncoding', 'trackID', 'parentID', 'time', 'eventID', 'posX', 'posY',\n",
      "       'posZ', 'momDirX', 'momDirY', 'momDirZ', 'edep', 'volumeID[0]',\n",
      "       'volumeID[1]', 'volumeID[2]', 'volumeID[3]', 'volumeID[4]',\n",
      "       'volumeID[5]', 'volumeID[6]', 'volumeID[7]', 'volumeID[8]',\n",
      "       'volumeID[9]', 'Layer'],\n",
      "      dtype='object')\n"
     ]
    }
   ],
   "source": [
    "df200eV['Layer'] = 2*df200eV[\"volumeID[2]\"]+df200eV[\"volumeID[3]\"]\n",
    "column_names200eV = df200eV.columns\n",
    "print(\"Oszlopnevek:\", column_names200eV)"
   ]
  },
  {
   "cell_type": "code",
   "execution_count": null,
   "id": "ec247ac1",
   "metadata": {},
   "outputs": [],
   "source": [
    "df200eV.groupby('')"
   ]
  },
  {
   "cell_type": "code",
   "execution_count": null,
   "id": "63bf8ca9",
   "metadata": {},
   "outputs": [],
   "source": []
  }
 ],
 "metadata": {
  "kernelspec": {
   "display_name": "Python 3",
   "language": "python",
   "name": "python3"
  },
  "language_info": {
   "codemirror_mode": {
    "name": "ipython",
    "version": 3
   },
   "file_extension": ".py",
   "mimetype": "text/x-python",
   "name": "python",
   "nbconvert_exporter": "python",
   "pygments_lexer": "ipython3",
   "version": "3.8.8"
  }
 },
 "nbformat": 4,
 "nbformat_minor": 5
}
